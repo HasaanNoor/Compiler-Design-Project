{
  "nbformat": 4,
  "nbformat_minor": 0,
  "metadata": {
    "colab": {
      "provenance": [],
      "authorship_tag": "ABX9TyNtWMdaEkcHyRhsRA8l7jRZ",
      "include_colab_link": true
    },
    "kernelspec": {
      "name": "python3",
      "display_name": "Python 3"
    },
    "language_info": {
      "name": "python"
    }
  },
  "cells": [
    {
      "cell_type": "markdown",
      "metadata": {
        "id": "view-in-github",
        "colab_type": "text"
      },
      "source": [
        "<a href=\"https://colab.research.google.com/github/HasaanNoor/Compiler-Design-Project/blob/main/scanner.ipynb\" target=\"_parent\"><img src=\"https://colab.research.google.com/assets/colab-badge.svg\" alt=\"Open In Colab\"/></a>"
      ]
    },
    {
      "cell_type": "code",
      "execution_count": 1,
      "metadata": {
        "colab": {
          "base_uri": "https://localhost:8080/"
        },
        "id": "acAc02Lbj6Pa",
        "outputId": "0d72871a-53f9-4f2e-ff7a-5dbb29e22bc4"
      },
      "outputs": [
        {
          "output_type": "stream",
          "name": "stdout",
          "text": [
            "Error: Invalid token at: '% b'\n"
          ]
        }
      ],
      "source": [
        "import re\n",
        "\n",
        "def tokenize(input_string):\n",
        "    # Define regex patterns for each token type\n",
        "    patterns = [\n",
        "        (r'\\+', 'Operator: '),\n",
        "        (r'-', 'Operator: '),\n",
        "        (r'\\*', 'Operator: '),\n",
        "        (r'/', 'Operator: '),\n",
        "        (r'\\^', 'Operator: '),\n",
        "        (r'=', 'Assignment: '),\n",
        "        (r';', 'Delimiter: '),\n",
        "        (r'User\\s+In:', 'User In:'),\n",
        "        (r'Print:', 'Print:'),\n",
        "        (r'[a-zA-Z_][a-zA-Z0-9_]*', 'Var:'),\n",
        "        (r'\\d+(\\.\\d*)?', 'Number:'),\n",
        "        (r'\\(', 'Left Paren: '),\n",
        "        (r'\\)', 'Right Paren: ')\n",
        "    ]\n",
        "\n",
        "    tokens = []\n",
        "    input_string = input_string.strip()\n",
        "\n",
        "    while input_string:\n",
        "        match = None\n",
        "        for pattern, token_type in patterns:\n",
        "            regex_match = re.match(pattern, input_string)\n",
        "            if regex_match:\n",
        "                match = (token_type, regex_match.group(0))\n",
        "                input_string = input_string[regex_match.end():].strip()\n",
        "                break\n",
        "        if not match:\n",
        "            raise ValueError(\"Invalid token at: '{}'\".format(input_string))\n",
        "        tokens.append(match)\n",
        "\n",
        "    return tokens\n",
        "\n",
        "# Example usage:\n",
        "# Example usage:\n",
        "# input_string = \"Print: a + b * (c - 3) ^ 2\"\n",
        "input_string = \"c = a % b\"\n",
        "\n",
        "try:\n",
        "    tokens = tokenize(input_string)\n",
        "    for token_type, token_value in tokens:\n",
        "        print(token_type, token_value)\n",
        "except ValueError as e:\n",
        "    print(\"Error:\", e)"
      ]
    }
  ]
}