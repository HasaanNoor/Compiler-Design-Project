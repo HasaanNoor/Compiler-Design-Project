{
  "nbformat": 4,
  "nbformat_minor": 0,
  "metadata": {
    "colab": {
      "provenance": [],
      "authorship_tag": "ABX9TyNYdb6zaYM3r8YaGaYtAPkI",
      "include_colab_link": true
    },
    "kernelspec": {
      "name": "python3",
      "display_name": "Python 3"
    },
    "language_info": {
      "name": "python"
    }
  },
  "cells": [
    {
      "cell_type": "markdown",
      "metadata": {
        "id": "view-in-github",
        "colab_type": "text"
      },
      "source": [
        "<a href=\"https://colab.research.google.com/github/HasaanNoor/Compiler-Design-Project/blob/main/Parser.ipynb\" target=\"_parent\"><img src=\"https://colab.research.google.com/assets/colab-badge.svg\" alt=\"Open In Colab\"/></a>"
      ]
    },
    {
      "cell_type": "code",
      "execution_count": 5,
      "metadata": {
        "id": "nTbHtg83rt8m"
      },
      "outputs": [],
      "source": [
        "class Node:\n",
        "    pass\n",
        "\n",
        "class Expression(Node):\n",
        "    def __init__(self, left, operator=None, right=None):\n",
        "        self.left = left\n",
        "        self.operator = operator\n",
        "        self.right = right\n",
        "\n",
        "    def __str__(self):\n",
        "        if self.right:\n",
        "            return f\"({self.left} {self.operator} {self.right})\"\n",
        "        return str(self.left)\n",
        "\n",
        "class Number(Node):\n",
        "    def __init__(self, value):\n",
        "        self.value = value\n",
        "\n",
        "    def __str__(self):\n",
        "        return str(self.value)\n",
        "\n",
        "class Variable(Node):\n",
        "    def __init__(self, identifier):\n",
        "        self.identifier = identifier\n",
        "\n",
        "    def __str__(self):\n",
        "        return self.identifier\n"
      ]
    },
    {
      "cell_type": "code",
      "source": [
        "class Parser:\n",
        "    def __init__(self, tokens):\n",
        "        self.tokens = tokens\n",
        "        self.current = 0\n",
        "\n",
        "    def eat(self, token_type):\n",
        "        if self.current < len(self.tokens) and self.tokens[self.current][0] == token_type:\n",
        "            token = self.tokens[self.current]\n",
        "            self.current += 1\n",
        "            print(f\"Consumed {token}\")  # Debugging output\n",
        "            return token\n",
        "        raise Exception(f\"Expected token {token_type}, but got {self.tokens[self.current][0]}\")\n",
        "\n",
        "    def parse(self):\n",
        "        return self.expression()\n",
        "\n",
        "    def expression(self):\n",
        "        node = self.term()\n",
        "        while self.current < len(self.tokens) and self.tokens[self.current][0] in ('Operator: +', 'Operator: -'):\n",
        "            op_type = self.tokens[self.current][1]\n",
        "            self.eat(self.tokens[self.current][0])\n",
        "            print(f\"Parsing expression with operator {op_type}\")  # Debugging output\n",
        "            node = Expression(node, op_type, self.term())\n",
        "        return node\n",
        "\n",
        "    def term(self):\n",
        "        node = self.factor()\n",
        "        while self.current < len(self.tokens) and self.tokens[self.current][0] in ('Operator: *', 'Operator: /'):\n",
        "            op_type = self.tokens[self.current][1]\n",
        "            self.eat(self.tokens[self.current][0])\n",
        "            print(f\"Parsing term with operator {op_type}\")  # Debugging output\n",
        "            node = Expression(node, op_type, self.factor())\n",
        "        return node\n",
        "\n",
        "    def factor(self):\n",
        "        token = self.tokens[self.current]\n",
        "        if token[0] == 'Number:':\n",
        "            value = token[1]\n",
        "            self.eat('Number:')\n",
        "            print(f\"Number parsed: {value}\")  # Debugging output\n",
        "            return Number(value)\n",
        "        elif token[0] == 'Var:':\n",
        "            identifier = token[1]\n",
        "            self.eat('Var:')\n",
        "            print(f\"Variable parsed: {identifier}\")  # Debugging output\n",
        "            return Variable(identifier)\n",
        "        elif token[0] == 'Left Paren:':\n",
        "            self.eat('Left Paren:')\n",
        "            node = self.expression()\n",
        "            self.eat('Right Paren:')\n",
        "            return node\n",
        "        raise Exception(f\"Invalid syntax at token {token[1]}\")\n",
        "\n",
        "# Example usage\n",
        "tokens = [\n",
        "    ('Var:', 'x'), ('Operator:', '+'), ('Number:', '5'), ('Operator:', '*'), ('Number:', '3'), ('Delimiter:', ';')\n",
        "]\n",
        "parser = Parser(tokens)\n",
        "ast = parser.parse()\n",
        "print(ast)"
      ],
      "metadata": {
        "colab": {
          "base_uri": "https://localhost:8080/"
        },
        "id": "iwOj69fkrwac",
        "outputId": "df678a20-7f77-42fc-a018-b71c0a19540a"
      },
      "execution_count": 6,
      "outputs": [
        {
          "output_type": "stream",
          "name": "stdout",
          "text": [
            "Consumed ('Var:', 'x')\n",
            "Variable parsed: x\n",
            "x\n"
          ]
        }
      ]
    }
  ]
}